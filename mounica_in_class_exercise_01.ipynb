{
  "nbformat": 4,
  "nbformat_minor": 0,
  "metadata": {
    "colab": {
      "name": "mounica_in_class_exercise_01.ipynb",
      "provenance": [],
      "collapsed_sections": [],
      "authorship_tag": "ABX9TyMQlXaK2FHLR5INoqU5YYiW",
      "include_colab_link": true
    },
    "kernelspec": {
      "name": "python3",
      "display_name": "Python 3"
    },
    "language_info": {
      "name": "python"
    }
  },
  "cells": [
    {
      "cell_type": "markdown",
      "metadata": {
        "id": "view-in-github",
        "colab_type": "text"
      },
      "source": [
        "<a href=\"https://colab.research.google.com/github/mounicasatraboina/mounicasatraboina_2021/blob/main/mounica_in_class_exercise_01.ipynb\" target=\"_parent\"><img src=\"https://colab.research.google.com/assets/colab-badge.svg\" alt=\"Open In Colab\"/></a>"
      ]
    },
    {
      "cell_type": "code",
      "metadata": {
        "colab": {
          "base_uri": "https://localhost:8080/"
        },
        "id": "0tgbjk_P0hzE",
        "outputId": "2afe6107-7fcc-46ee-d7ed-fe7a4710e87d"
      },
      "source": [
        "#length of the string\n",
        "P= input(\" Enter a String: \")\n",
        "print(len(P))"
      ],
      "execution_count": null,
      "outputs": [
        {
          "output_type": "stream",
          "name": "stdout",
          "text": [
            " Enter a String: python\n",
            "6\n"
          ]
        }
      ]
    },
    {
      "cell_type": "code",
      "metadata": {
        "colab": {
          "base_uri": "https://localhost:8080/"
        },
        "id": "RBnvi0jv0_ff",
        "outputId": "256fbeb7-6d8d-4179-9ea5-33e7db2fc81e"
      },
      "source": [
        " #count the number of characters in a string\n",
        " def char_count(str1):\n",
        "    str = {}\n",
        "    for num in str1:\n",
        "        k = str.keys()\n",
        "        if num in k:\n",
        "            str[num] += 1\n",
        "        else:\n",
        "            str[num] = 1\n",
        "    return str\n",
        "print(char_count('google.com'))"
      ],
      "execution_count": null,
      "outputs": [
        {
          "output_type": "stream",
          "name": "stdout",
          "text": [
            "{'g': 2, 'o': 3, 'l': 1, 'e': 1, '.': 1, 'c': 1, 'm': 1}\n"
          ]
        }
      ]
    },
    {
      "cell_type": "code",
      "metadata": {
        "colab": {
          "base_uri": "https://localhost:8080/"
        },
        "id": "eo6-NwIv1AuW",
        "outputId": "52d53e7c-059f-480a-d82f-24e3307ad4f8"
      },
      "source": [
        "#sum all the items in a list\n",
        "mylist=[1, 2, 3, 4, 5]\n",
        "total= sum(mylist)\n",
        "print(\"sum of all the items in a list:\", total)"
      ],
      "execution_count": null,
      "outputs": [
        {
          "output_type": "stream",
          "name": "stdout",
          "text": [
            "sum of all the items in a list: 15\n"
          ]
        }
      ]
    },
    {
      "cell_type": "code",
      "metadata": {
        "colab": {
          "base_uri": "https://localhost:8080/"
        },
        "id": "iB9Z9Gb31GY3",
        "outputId": "fdfbd8d6-ed50-45dd-caad-7a350ac4db1b"
      },
      "source": [
        "#program to get a string from a given string where all occurrences of its first char have been changed to '$', except the first char itself\n",
        "strings=input(\"Enter a String: \")\n",
        "count=strings[0]\n",
        "mod=strings.replace(count,'$')\n",
        "mod=count+mod[1:]\n",
        "print(mod)"
      ],
      "execution_count": null,
      "outputs": [
        {
          "output_type": "stream",
          "name": "stdout",
          "text": [
            "Enter a String: restart\n",
            "resta$t\n"
          ]
        }
      ]
    },
    {
      "cell_type": "code",
      "metadata": {
        "colab": {
          "base_uri": "https://localhost:8080/"
        },
        "id": "tiqRv9NO1Ngj",
        "outputId": "f398a5a6-92e6-4194-84f5-46f63f023ae0"
      },
      "source": [
        "#program with python which could accept two parameter a and b to calculate and output the result of S, where S=3.14∗(1+a/b)3  (4 points)\n",
        " \n",
        "a,b = map(int, input().split(\",\"))\n",
        "S=3.14*(1+a/b)**3\n",
        "print(S)"
      ],
      "execution_count": null,
      "outputs": [
        {
          "output_type": "stream",
          "name": "stdout",
          "text": [
            "1,3\n",
            "7.4429629629629614\n"
          ]
        }
      ]
    },
    {
      "cell_type": "code",
      "metadata": {
        "colab": {
          "base_uri": "https://localhost:8080/"
        },
        "id": "dX2XzLB81QoJ",
        "outputId": "f135f2ac-b4db-4e52-e59e-7ad13264598c"
      },
      "source": [
        "# program to concatenate following dictionaries to create a new one. \n",
        "p1={'1':10,'2':20}\n",
        "p2={'3':30,'4':40}\n",
        "p3={'5':50,'6':60}\n",
        "p4={}\n",
        "for d in (p1,p2,p3):\n",
        "    p4.update(d)\n",
        "print(\"The result is :\",end=\" \");\n",
        "print(p4)"
      ],
      "execution_count": null,
      "outputs": [
        {
          "output_type": "stream",
          "name": "stdout",
          "text": [
            "The result is : {'1': 10, '2': 20, '3': 30, '4': 40, '5': 50, '6': 60}\n"
          ]
        }
      ]
    },
    {
      "cell_type": "code",
      "metadata": {
        "id": "xUwbWx8W1TYz",
        "colab": {
          "base_uri": "https://localhost:8080/"
        },
        "outputId": "5bb23cd4-0ba8-42aa-937e-d035f9552832"
      },
      "source": [
        "#program to check whether an element exists within a tuple.\n",
        "mytuple=(5,10,15,20)\n",
        "p=int(input(\"Enter the item\"))\n",
        "i=mytuple.count(p)\n",
        "if i==1:\n",
        "  print(\"Item exists in the tuple\")\n",
        "else:\n",
        "  print(\"Item doesn't exist in the tuple\")\n"
      ],
      "execution_count": 40,
      "outputs": [
        {
          "output_type": "stream",
          "name": "stdout",
          "text": [
            "Enter the item10\n",
            "Item exists in the tuple\n"
          ]
        }
      ]
    },
    {
      "cell_type": "code",
      "metadata": {
        "colab": {
          "base_uri": "https://localhost:8080/"
        },
        "id": "uapm-Nu12N7E",
        "outputId": "aa30b18d-e06f-4b97-b251-91d3e81064cf"
      },
      "source": [
        "#program to find maximum and the minimum value in a set.\n",
        "p=[1200,20,50,90]\n",
        "l=len(p)\n",
        "min=p[0]\n",
        "max=p[0]\n",
        "for i in range(0,l):\n",
        "  if p[i]>max:\n",
        "    max=p[i]\n",
        "  if p[i]<min:\n",
        "    min=p[i]\n",
        "print(\"The minimum value in the set is:\")\n",
        "print(min)\n",
        "print(\"The maximum value in the set  is:\")\n",
        "print(max)"
      ],
      "execution_count": null,
      "outputs": [
        {
          "output_type": "stream",
          "name": "stdout",
          "text": [
            "The minimum value in the set is:\n",
            "20\n",
            "The maximum value in the set  is:\n",
            "1200\n"
          ]
        }
      ]
    },
    {
      "cell_type": "code",
      "metadata": {
        "id": "6QGamSHZ1Yjr",
        "colab": {
          "base_uri": "https://localhost:8080/"
        },
        "outputId": "2005861c-fc0b-4988-ccf7-cc73a212a41b"
      },
      "source": [
        "import random\n",
        "contestants=['vmb0067','pc0353','snd0097','yye0005','sg0940','bk0301','rak0120','rrk0058','spk0057','vl0135','nm0547','pn0159', 'msp0174','dd0420','ds0761','rs0850','ss1995','at0739','at0768','mv0299','tv0119','dy0091']\n",
        "set=1\n",
        "freshmenInGroup=6\n",
        "\n",
        "for participant in contestants[:]:               # only modification\n",
        "    if freshmenInGroup==6:\n",
        "        print(\"set {} contains ;\".format(set))\n",
        "        freshmenInGroup=0\n",
        "        set+=1\n",
        "    person=random.choice(contestants)\n",
        "    print(person)\n",
        "    freshmenInGroup+=1\n",
        "    contestants.remove(str(person))"
      ],
      "execution_count": 43,
      "outputs": [
        {
          "output_type": "stream",
          "name": "stdout",
          "text": [
            "set 1 contains ;\n",
            "nm0547\n",
            "at0768\n",
            "rs0850\n",
            "msp0174\n",
            "pn0159\n",
            "dd0420\n",
            "set 2 contains ;\n",
            "ds0761\n",
            "rrk0058\n",
            "at0739\n",
            "pc0353\n",
            "mv0299\n",
            "spk0057\n",
            "set 3 contains ;\n",
            "tv0119\n",
            "rak0120\n",
            "vmb0067\n",
            "ss1995\n",
            "vl0135\n",
            "bk0301\n",
            "set 4 contains ;\n",
            "sg0940\n",
            "snd0097\n",
            "yye0005\n",
            "dy0091\n"
          ]
        }
      ]
    },
    {
      "cell_type": "code",
      "metadata": {
        "colab": {
          "base_uri": "https://localhost:8080/"
        },
        "id": "HLAWkdXf2Zxi",
        "outputId": "21ce24c8-7d00-4dcf-c36b-80376be18359"
      },
      "source": [
        "def find_duplicate(elements):\n",
        "    num_set = set()\n",
        "    no_duplicate = -1\n",
        "\n",
        "    for i in range(len(elements)):\n",
        "        if elements[i] in num_set:\n",
        "            return elements[i]\n",
        "        else:\n",
        "            num_set.add(elements[i])\n",
        "\n",
        "    return no_duplicate\n",
        "\n",
        "print(find_duplicate([7,8,8,9,12]))\n",
        "print(find_duplicate([12,16,9,9]))\n",
        "print(find_duplicate([15,16,17,18,1]))"
      ],
      "execution_count": null,
      "outputs": [
        {
          "output_type": "stream",
          "name": "stdout",
          "text": [
            "8\n",
            "9\n",
            "-1\n"
          ]
        }
      ]
    },
    {
      "cell_type": "code",
      "metadata": {
        "id": "ayDUsSAG6UhA",
        "colab": {
          "base_uri": "https://localhost:8080/"
        },
        "outputId": "b64033e2-ba8a-447e-c66e-3201f7155610"
      },
      "source": [
        "from datetime import date, timedelta\n",
        "\n",
        "def every_sundays(year):\n",
        "    p = date(year, 1, 1)\n",
        "    p += timedelta(days = 6 - p.weekday())  \n",
        "    while p.year == year:\n",
        "          yield p\n",
        "          p += timedelta(days = 7)\n",
        "for sunday in every_sundays(2020):\n",
        "   print(sunday)"
      ],
      "execution_count": 39,
      "outputs": [
        {
          "output_type": "stream",
          "name": "stdout",
          "text": [
            "2020-01-05\n",
            "2020-01-12\n",
            "2020-01-19\n",
            "2020-01-26\n",
            "2020-02-02\n",
            "2020-02-09\n",
            "2020-02-16\n",
            "2020-02-23\n",
            "2020-03-01\n",
            "2020-03-08\n",
            "2020-03-15\n",
            "2020-03-22\n",
            "2020-03-29\n",
            "2020-04-05\n",
            "2020-04-12\n",
            "2020-04-19\n",
            "2020-04-26\n",
            "2020-05-03\n",
            "2020-05-10\n",
            "2020-05-17\n",
            "2020-05-24\n",
            "2020-05-31\n",
            "2020-06-07\n",
            "2020-06-14\n",
            "2020-06-21\n",
            "2020-06-28\n",
            "2020-07-05\n",
            "2020-07-12\n",
            "2020-07-19\n",
            "2020-07-26\n",
            "2020-08-02\n",
            "2020-08-09\n",
            "2020-08-16\n",
            "2020-08-23\n",
            "2020-08-30\n",
            "2020-09-06\n",
            "2020-09-13\n",
            "2020-09-20\n",
            "2020-09-27\n",
            "2020-10-04\n",
            "2020-10-11\n",
            "2020-10-18\n",
            "2020-10-25\n",
            "2020-11-01\n",
            "2020-11-08\n",
            "2020-11-15\n",
            "2020-11-22\n",
            "2020-11-29\n",
            "2020-12-06\n",
            "2020-12-13\n",
            "2020-12-20\n",
            "2020-12-27\n"
          ]
        }
      ]
    }
  ]
}